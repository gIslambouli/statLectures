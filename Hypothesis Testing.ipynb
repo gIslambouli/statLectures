{
 "cells": [
  {
   "cell_type": "code",
   "execution_count": 221,
   "metadata": {},
   "outputs": [],
   "source": [
    "from math import comb\n",
    "from numpy import random\n",
    "import matplotlib.pyplot as plt"
   ]
  },
  {
   "cell_type": "markdown",
   "metadata": {},
   "source": [
    "Recall that the PMF of a $binomial(n,p)$ random variable $X$ is given by: $$P(X = i) =  {n \\choose i} p^{i}(1-p)^{n-i}$$"
   ]
  },
  {
   "cell_type": "markdown",
   "metadata": {},
   "source": [
    "The code below gives the CDF of the binomial distribution. That is, it retuns $P(X \\leq k)$ for a $binomial(n,p)$ random variable"
   ]
  },
  {
   "cell_type": "code",
   "execution_count": 149,
   "metadata": {},
   "outputs": [],
   "source": [
    "def binCDF(n,p,k):\n",
    "    return sum(comb(n, i) * ((p)**i) * (1-p) ** (n-i) for i in range(0, k+1))"
   ]
  },
  {
   "cell_type": "code",
   "execution_count": 170,
   "metadata": {},
   "outputs": [
    {
     "data": {
      "text/plain": [
       "0.5397946186935894"
      ]
     },
     "execution_count": 170,
     "metadata": {},
     "output_type": "execute_result"
    }
   ],
   "source": [
    "binCDF(100, 1/2, 50)"
   ]
  },
  {
   "cell_type": "markdown",
   "metadata": {},
   "source": [
    "In the lecture, we claimed that the correct rejection region for an $\\alpha$ value of $.01$ was $\\{x : x \\leq 36 \\text{ or } x \\geq 64\\}$. Let's confirm this! Recall that $P(X > k) = 1-P(X \\leq k)$. "
   ]
  },
  {
   "cell_type": "code",
   "execution_count": 173,
   "metadata": {},
   "outputs": [
    {
     "data": {
      "text/plain": [
       "0.006637120515926129"
      ]
     },
     "execution_count": 173,
     "metadata": {},
     "output_type": "execute_result"
    }
   ],
   "source": [
    "binCDF(100, 1/2, 36) + (1-binCDF(100,1/2, 63))"
   ]
  },
  {
   "cell_type": "code",
   "execution_count": 175,
   "metadata": {},
   "outputs": [
    {
     "data": {
      "text/plain": [
       "0.012032975725363458"
      ]
     },
     "execution_count": 175,
     "metadata": {},
     "output_type": "execute_result"
    }
   ],
   "source": [
    "binCDF(100, 1/2, 37) + (1-binCDF(100,1/2, 62))"
   ]
  },
  {
   "cell_type": "markdown",
   "metadata": {},
   "source": [
    "Let's also confirm that our value of $\\alpha$ is about right experimentally. The following code runs the experiment and counts the number of false positives. If we run the experiment $1000$ times we should expect about $6$ or $7$ false positives.  "
   ]
  },
  {
   "cell_type": "code",
   "execution_count": 197,
   "metadata": {},
   "outputs": [
    {
     "data": {
      "text/plain": [
       "5"
      ]
     },
     "execution_count": 197,
     "metadata": {},
     "output_type": "execute_result"
    }
   ],
   "source": [
    "experiment = random.default_rng()\n",
    "falsePos = 0\n",
    "for i in range(1000):\n",
    "        X = experiment.binomial(100,1/2)\n",
    "        if X >= 64 or X <= 36:\n",
    "            falsePos += 1\n",
    "falsePos\n"
   ]
  },
  {
   "cell_type": "markdown",
   "metadata": {},
   "source": [
    "Now lets experimentally approximate $\\beta$ in the experiements as $p$ goes from $.55$ to $.90$ in increments of $.025$."
   ]
  },
  {
   "cell_type": "code",
   "execution_count": 229,
   "metadata": {},
   "outputs": [],
   "source": [
    "probabilities = [.55+.025*i for i in range(0,15)]\n",
    "falseNegatives = []\n",
    "experiment = random.default_rng()\n",
    "for p in probabilities:\n",
    "    falseNeg = 0\n",
    "    for i in range(1000):\n",
    "            X = experiment.binomial(100,p)\n",
    "            if X < 64:\n",
    "                falseNeg += 1\n",
    "    falseNegatives.append(falseNeg)\n",
    "estimatedBetas = [negs/1000 for negs in falseNegatives]"
   ]
  },
  {
   "cell_type": "markdown",
   "metadata": {},
   "source": [
    "Finally, lets plot the results using matplotlib."
   ]
  },
  {
   "cell_type": "code",
   "execution_count": 230,
   "metadata": {},
   "outputs": [
    {
     "data": {
      "image/png": "[encoded data removed]",
      "text/plain": [
       "<Figure size 640x480 with 1 Axes>"
      ]
     },
     "metadata": {},
     "output_type": "display_data"
    }
   ],
   "source": [
    "plt.scatter(probabilities, estimatedBetas)\n",
    "plt.show()"
   ]
  }
 ],
 "metadata": {
  "kernelspec": {
   "display_name": "Python 3",
   "language": "python",
   "name": "python3"
  },
  "language_info": {
   "codemirror_mode": {
    "name": "ipython",
    "version": 3
   },
   "file_extension": ".py",
   "mimetype": "text/x-python",
   "name": "python",
   "nbconvert_exporter": "python",
   "pygments_lexer": "ipython3",
   "version": "3.11.9"
  }
 },
 "nbformat": 4,
 "nbformat_minor": 2
}
